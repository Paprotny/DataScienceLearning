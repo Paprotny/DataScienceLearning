{
 "cells": [
  {
   "cell_type": "markdown",
   "id": "e682bf69",
   "metadata": {},
   "source": [
    "# Notebook for DS"
   ]
  },
  {
   "cell_type": "markdown",
   "id": "6934dd5a",
   "metadata": {},
   "source": [
    "Bootstrap sampling:\n",
    "This is a statistical technique that involves drawing samples with replacement from the original data set. This means that some samples may be repeated, while others may not be included in a given tree at all."
   ]
  },
  {
   "cell_type": "markdown",
   "id": "ca3b089a",
   "metadata": {},
   "source": []
  },
  {
   "cell_type": "markdown",
   "id": "17efff6b",
   "metadata": {},
   "source": []
  }
 ],
 "metadata": {
  "kernelspec": {
   "display_name": "Python 3",
   "language": "python",
   "name": "python3"
  },
  "language_info": {
   "name": "python",
   "version": "3.12.8"
  }
 },
 "nbformat": 4,
 "nbformat_minor": 5
}
